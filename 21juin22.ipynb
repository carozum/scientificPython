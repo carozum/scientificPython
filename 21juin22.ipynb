{
 "cells": [
  {
   "cell_type": "markdown",
   "id": "4ba60394",
   "metadata": {},
   "source": [
    "Programme de calcul du plus petit élément : "
   ]
  },
  {
   "cell_type": "code",
   "execution_count": 3,
   "id": "7092eff8",
   "metadata": {},
   "outputs": [
    {
     "name": "stdout",
     "output_type": "stream",
     "text": [
      "5\n"
     ]
    }
   ],
   "source": [
    "smallest = None\n",
    "list = [104, 8, 23, 5, 7, 8, 17, 4837, 23, 1213, 3455, 35663, 2134]\n",
    "for elt in list:\n",
    "    if smallest is None or elt < smallest:\n",
    "        smallest = elt\n",
    "print(smallest)"
   ]
  },
  {
   "cell_type": "markdown",
   "id": "91cc2e22",
   "metadata": {},
   "source": [
    "Différence entre is (égalité sur la valeur et le type) et == (égalité sur la valeur)"
   ]
  },
  {
   "cell_type": "code",
   "execution_count": 11,
   "id": "6d663f53",
   "metadata": {
    "scrolled": true
   },
   "outputs": [
    {
     "data": {
      "text/plain": [
       "False"
      ]
     },
     "metadata": {},
     "output_type": "display_data"
    },
    {
     "data": {
      "text/plain": [
       "True"
      ]
     },
     "metadata": {},
     "output_type": "display_data"
    },
    {
     "data": {
      "text/plain": [
       "True"
      ]
     },
     "metadata": {},
     "output_type": "display_data"
    }
   ],
   "source": [
    "a = 0\n",
    "b = 0.0\n",
    "display(a is b)\n",
    "display(a == b)\n",
    "display(a is not b)"
   ]
  },
  {
   "cell_type": "markdown",
   "id": "1775b1b8",
   "metadata": {},
   "source": [
    "Loop on strings"
   ]
  },
  {
   "cell_type": "code",
   "execution_count": 18,
   "id": "7739cfe1",
   "metadata": {},
   "outputs": [
    {
     "name": "stdout",
     "output_type": "stream",
     "text": [
      "b\n",
      "a\n",
      "n\n",
      "a\n",
      "n\n",
      "a\n",
      "a\n",
      "p\n",
      "p\n",
      "l\n",
      "e\n",
      "there are 74 letters in the sentence: Bonjour, je m'appelle Caroline et je suis actuellement en formation au CCI\n"
     ]
    }
   ],
   "source": [
    "fruit = 'banana'\n",
    "for loop in range(len(fruit)):\n",
    "    print(fruit[loop])\n",
    "    \n",
    "fruit = 'apple'\n",
    "for letter in fruit:\n",
    "    print(letter)\n",
    "    \n",
    "sentence = \"Bonjour, je m'appelle Caroline et je suis actuellement en formation au CCI\"\n",
    "count = 0\n",
    "for letter in sentence:\n",
    "    count += 1\n",
    "print(f\"there are {count} letters in the sentence: {sentence}\")"
   ]
  },
  {
   "cell_type": "markdown",
   "id": "e951f1af",
   "metadata": {},
   "source": [
    "Méthod on strings. slice, concatenation with +, < for alphabetical order, dir(str) : liste de tous les méthodes sur les objets String. Les méthodes sur les strings ne changent jamais le string d'origine. \n",
    ".lower()\n",
    ".upper()\n",
    ".capitalize()\n",
    ".find('string', index1, index2) entre index1 et index2\n",
    ".replace('name', 'name2')\n",
    ".lstrip() enlève les espaces à gauche\n",
    ".rstrip() enlève les espaces à droite\n",
    ".strip() enlève les espaces à droites et à gauche\n",
    ".startswith('M')\n",
    ".split() par defaut split selon les espaces sinon préciser le séparateur"
   ]
  },
  {
   "cell_type": "code",
   "execution_count": 39,
   "id": "b969fffa",
   "metadata": {},
   "outputs": [
    {
     "name": "stdout",
     "output_type": "stream",
     "text": [
      "Mont\n",
      "P\n",
      "Python\n",
      "Mo\n",
      "thon\n",
      "Monty Python\n",
      "True\n",
      "monty python\n",
      "MONTY PYTHON\n",
      "Monty python\n",
      "['__add__', '__class__', '__contains__', '__delattr__', '__dir__', '__doc__', '__eq__', '__format__', '__ge__', '__getattribute__', '__getitem__', '__getnewargs__', '__gt__', '__hash__', '__init__', '__init_subclass__', '__iter__', '__le__', '__len__', '__lt__', '__mod__', '__mul__', '__ne__', '__new__', '__reduce__', '__reduce_ex__', '__repr__', '__rmod__', '__rmul__', '__setattr__', '__sizeof__', '__str__', '__subclasshook__', 'capitalize', 'casefold', 'center', 'count', 'encode', 'endswith', 'expandtabs', 'find', 'format', 'format_map', 'index', 'isalnum', 'isalpha', 'isascii', 'isdecimal', 'isdigit', 'isidentifier', 'islower', 'isnumeric', 'isprintable', 'isspace', 'istitle', 'isupper', 'join', 'ljust', 'lower', 'lstrip', 'maketrans', 'partition', 'removeprefix', 'removesuffix', 'replace', 'rfind', 'rindex', 'rjust', 'rpartition', 'rsplit', 'rstrip', 'split', 'splitlines', 'startswith', 'strip', 'swapcase', 'title', 'translate', 'upper', 'zfill']\n",
      "3\n",
      "-1\n",
      "Monty Pyround\n",
      "True\n"
     ]
    }
   ],
   "source": [
    "name = \"Monty Python\"\n",
    "print(name[0:4])\n",
    "print(name[6:7])\n",
    "print(name[6:20])\n",
    "print(name[:2])\n",
    "print(name[8:])\n",
    "print(name[:])\n",
    "print('caro'>'MS')\n",
    "a = name.lower()\n",
    "print(a)\n",
    "a = name.upper()\n",
    "print(a)\n",
    "a = name.capitalize()\n",
    "print(a)\n",
    "type(a)\n",
    "print(dir(str))\n",
    "#help(str)\n",
    "\n",
    "a= name.find('ty')\n",
    "print(a)\n",
    "a = name.find('caro')\n",
    "print(a)\n",
    "a = name.replace('thon', 'round')\n",
    "print(a)\n",
    "print(name.startswith('M'))"
   ]
  },
  {
   "cell_type": "code",
   "execution_count": 50,
   "id": "a344cf16",
   "metadata": {},
   "outputs": [
    {
     "name": "stdout",
     "output_type": "stream",
     "text": [
      "1\n",
      "57\n",
      " have an email adress that is czumbiehlfaure@hotmail.fr \n"
     ]
    }
   ],
   "source": [
    "message = 'I have an email adress that is czumbiehlfaure@hotmail.fr since 2005'\n",
    "index = int(message.find('@'))\n",
    "index1 = int(message.find(' ', 0, index))\n",
    "print(index1)\n",
    "index2 = int(message.find(' ', index))+1\n",
    "print(index2)\n",
    "email = message[index1: index2]\n",
    "print(email)"
   ]
  },
  {
   "cell_type": "markdown",
   "id": "5e41c8ac",
   "metadata": {},
   "source": [
    "Opening files : \n",
    "fhandle = open('filename.txt', 'r')     filename is a string, r is the mode. If reading, it doesn't harm the file, you can read it over and over. If writing mode, if there is already data in the file, it truncates it and writes something, we are not really gonna write file, we are mostly gonna read them --> open pass it in a file... it gives you back this file handle. Open() allows you to get into the file. \n",
    "\n",
    "A noter que dans un fichier .txt, quand on l'importe .open(), on obtient une séquence de strings qui sont déterminés par le passage à la ligne \\n (servent de séparateur entre les différents éléments string que l'on importe). Each list item is a string."
   ]
  },
  {
   "cell_type": "code",
   "execution_count": 76,
   "id": "b195c669",
   "metadata": {},
   "outputs": [
    {
     "name": "stdout",
     "output_type": "stream",
     "text": [
      "<_io.TextIOWrapper name='data.txt' mode='r' encoding='UTF-8'>\n",
      "listItem: 1 -  Sed ut perspiciatis, unde omnis iste natus error sit voluptatem accusantium doloremque laudantium, totam rem aperiam eaque ipsa, quae ab illo inventore veritatis et quasi architecto beatae vitae dicta sunt, explicabo. \n",
      "\n",
      "listItem: 2 -  Nemo enim ipsam voluptatem, quia voluptas sit, aspernatur aut odit aut fugit, sed quia consequuntur magni dolores eos, qui ratione voluptatem sequi nesciunt, neque porro quisquam est, qui dolorem ipsum, quia dolor sit amet consectetur adipisci[ng] velit, sed quia non numquam [do] eius modi tempora inci[di]dunt, ut labore et dolore magnam aliquam quaerat voluptatem. \n",
      "\n",
      "listItem: 3 -  \n",
      "\n",
      "listItem: 4 -  Ut enim ad minima veniam, quis nostrum exercitationem ullam corporis suscipit laboriosam, nisi ut aliquid ex ea commodi consequatur? \n",
      "\n",
      "listItem: 5 -  Quis autem vel eum iure reprehenderit, qui in ea voluptate velit esse, quam nihil molestiae consequatur, vel illum, qui dolorem eum fugiat, quo voluptas nulla pariatur?”\n"
     ]
    }
   ],
   "source": [
    "fhandle = open('data.txt','r')\n",
    "print(fhandle)\n",
    "number = 0\n",
    "for listItem in fhandle:\n",
    "    number += 1\n",
    "    print(\"listItem:\", number, \"- \", listItem)"
   ]
  },
  {
   "cell_type": "markdown",
   "id": "55d3b95e",
   "metadata": {},
   "source": [
    "check if file name is correct\n",
    "quit() to end the program, \n",
    "continue dans une boucle permet de passer au prochain tour de boucle sans exécuter la suite des instructions. \n",
    "break dans une boucle permet de sortir de la boucle"
   ]
  },
  {
   "cell_type": "code",
   "execution_count": 1,
   "id": "f31f3df9",
   "metadata": {},
   "outputs": [
    {
     "name": "stdout",
     "output_type": "stream",
     "text": [
      "what is your file name?data.txt\n",
      "Sed ut perspiciatis, unde omnis i\n"
     ]
    }
   ],
   "source": [
    "fileName = input('what is your file name?')\n",
    "try :\n",
    "    fhandle = open(fileName)\n",
    "    print(fhandle.read(33))\n",
    "\n",
    "except:\n",
    "    print(\"file can not be opened:\", fileName)\n",
    "    quit()\n",
    "    "
   ]
  },
  {
   "cell_type": "code",
   "execution_count": 2,
   "id": "82d9fa93",
   "metadata": {},
   "outputs": [
    {
     "name": "stdout",
     "output_type": "stream",
     "text": [
      "what is your file name?datas.txt\n",
      "file can not be opened: datas.txt\n"
     ]
    }
   ],
   "source": [
    "fileName = input('what is your file name?')\n",
    "try :\n",
    "    fhandle = open(fileName)\n",
    "    print(fhandle.read(33))\n",
    "\n",
    "except:\n",
    "    print(\"file can not be opened:\", fileName)\n",
    "    quit()\n",
    "    "
   ]
  },
  {
   "cell_type": "markdown",
   "id": "ea978eac",
   "metadata": {},
   "source": [
    "range() est une fonction qui donne une liste de nombre. "
   ]
  },
  {
   "cell_type": "code",
   "execution_count": 7,
   "id": "2bcdc4bb",
   "metadata": {},
   "outputs": [
    {
     "data": {
      "text/plain": [
       "False"
      ]
     },
     "execution_count": 7,
     "metadata": {},
     "output_type": "execute_result"
    }
   ],
   "source": [
    "len(range(3))\n",
    "3 in range(3)"
   ]
  },
  {
   "cell_type": "markdown",
   "id": "15cfdd80",
   "metadata": {},
   "source": [
    "méthode sur les listes\n",
    ".append(elt)"
   ]
  },
  {
   "cell_type": "code",
   "execution_count": 11,
   "id": "0937a87e",
   "metadata": {},
   "outputs": [
    {
     "name": "stdout",
     "output_type": "stream",
     "text": [
      "True\n",
      "True\n",
      "[2, 5, 6, 7]\n",
      "2\n",
      "7\n",
      "20\n"
     ]
    }
   ],
   "source": [
    "list = [6, 5, 2, 7]\n",
    "print(2 in list)\n",
    "print(3 not in list)\n",
    "some.sort()\n",
    "print(list)\n",
    "print(min(list))\n",
    "print(max(list))\n",
    "print(sum(list))\n"
   ]
  },
  {
   "cell_type": "markdown",
   "id": "edcd8f43",
   "metadata": {},
   "source": [
    "méthode sur les dictionnaires : get('key', valeur par défaut), valeur par défaut si la clé n'existe pas"
   ]
  },
  {
   "cell_type": "code",
   "execution_count": 18,
   "id": "1cb8aabf",
   "metadata": {},
   "outputs": [
    {
     "name": "stdout",
     "output_type": "stream",
     "text": [
      "0\n",
      "notes12\n",
      "notes19\n",
      "notes19\n",
      "notes19\n",
      "{'caro': 12, 'ms': 19, 'astrid': 19, 'emilie': 19}\n"
     ]
    }
   ],
   "source": [
    "dico = {'name':\"caro\", \"age\": 45}\n",
    "age = dico.get('Age', 0)\n",
    "print(age)\n",
    "\n",
    "notes = dict()\n",
    "names = ['caro', \"ms\", 'astrid', 'emilie']\n",
    "for name in names:\n",
    "    note = int(input('notes'))\n",
    "    notes[name] = note\n",
    "print(notes)"
   ]
  },
  {
   "cell_type": "code",
   "execution_count": 2,
   "id": "294d7081",
   "metadata": {},
   "outputs": [
    {
     "name": "stdout",
     "output_type": "stream",
     "text": [
      "annie 42\n",
      "jan 100\n"
     ]
    }
   ],
   "source": [
    "counts = { 'chuck' : 1 , 'annie' : 42, 'jan': 100}\n",
    "for key in counts:\n",
    "    if counts[key] > 10:\n",
    "        value = counts[key]\n",
    "        print(key, value)"
   ]
  },
  {
   "cell_type": "code",
   "execution_count": 5,
   "id": "f277cbc3",
   "metadata": {},
   "outputs": [
    {
     "name": "stdout",
     "output_type": "stream",
     "text": [
      "['chuck', 'annie', 'jan']\n",
      "dict_keys(['chuck', 'annie', 'jan'])\n",
      "dict_values([1, 42, 100])\n",
      "dict_items([('chuck', 1), ('annie', 42), ('jan', 100)])\n",
      "chuck 1\n",
      "annie 42\n",
      "jan 100\n"
     ]
    }
   ],
   "source": [
    "print(list(counts))\n",
    "print(counts.keys())\n",
    "print(counts.values())\n",
    "print(counts.items())\n",
    "# 2 iteration variables\n",
    "for key, value in counts.items():\n",
    "    print(key, value)"
   ]
  },
  {
   "cell_type": "markdown",
   "id": "37ecc111",
   "metadata": {},
   "source": [
    "Programme qui réalise un nuage de mots à partir d'un fichier"
   ]
  },
  {
   "cell_type": "code",
   "execution_count": 37,
   "id": "e9145ccb",
   "metadata": {},
   "outputs": [
    {
     "name": "stdout",
     "output_type": "stream",
     "text": [
      "what is your file name?data.txt\n",
      "demandé 3\n",
      "commencer 3\n",
      "opinion 3\n",
      "première 3\n",
      "regarda 3\n",
      "qualifier 3\n",
      "nigériane 3\n",
      "féminisme 3\n",
      "étaient 3\n",
      "africaine 3\n",
      "détestez 3\n",
      "exemple 3\n",
      "meilleure 3\n",
      "évident 3\n",
      "féminin 3\n",
      "masculin 3\n",
      "particulièrement 3\n",
      "différents 3\n",
      "chances 3\n",
      "général 3\n",
      "demande 3\n",
      "nombreux 3\n",
      "serveur 3\n",
      "serveurs 3\n",
      "société 3\n",
      "parfois 3\n",
      "signifie 3\n",
      "devrions 3\n",
      "capacité 3\n",
      "changer 3\n",
      "demander 3\n",
      "parents 3\n",
      "s'attend 3\n",
      "certain 3\n",
      "personnes 3\n",
      "faisons 3\n",
      "virginité 3\n",
      "pensent 3\n",
      "ménagères 3\n",
      "cuisine 3\n",
      "j'allais 3\n",
      "paraître 3\n",
      "jour-là 3\n",
      "dites-vous 3\n",
      "expérience 3\n",
      "tellement 4\n",
      "voulait 4\n",
      "voulais 4\n",
      "nigérians 4\n",
      "ensuite 4\n",
      "vraiment 4\n",
      "déteste 4\n",
      "devenir 4\n",
      "important 4\n",
      "différentes 4\n",
      "peuvent 4\n",
      "physiquement 4\n",
      "simplement 4\n",
      "petites 4\n",
      "différemment 4\n",
      "famille 4\n",
      "langage 4\n",
      "deviennent 4\n",
      "problème 4\n",
      "sérieux 4\n",
      "conversation 4\n",
      "certains 4\n",
      "heureuse 5\n",
      "nigéria 5\n",
      "n'était 5\n",
      "l'argent 5\n",
      "j'avais 5\n",
      "enfants 5\n",
      "comment 5\n",
      "masculinité 5\n",
      "enseignons 5\n",
      "toujours 5\n",
      "inquiète 5\n",
      "grandissent 5\n",
      "okuloma 6\n",
      "délégué 6\n",
      "c'était 6\n",
      "travail 6\n",
      "manière 6\n",
      "maintenant 7\n",
      "souvent 7\n",
      "d'hommes 7\n",
      "beaucoup 7\n",
      "aujourd'hui 7\n",
      "connais 7\n",
      "fille 8\n",
      "choses 8\n",
      "pourquoi 8\n",
      "garçon 9\n",
      "classe 9\n",
      "pouvoir 9\n",
      "mariage 9\n",
      "(applaudissements) 10\n",
      "personne 10\n",
      "louis 10\n",
      "sexes 10\n",
      "l'homme 11\n",
      "genre 11\n",
      "monde 12\n",
      "culture 12\n",
      "garçons 12\n",
      "filles 16\n",
      "(rires) 17\n",
      "faire 17\n",
      "féministe 20\n",
      "hommes 27\n",
      "homme 29\n",
      "femme 29\n",
      "femmes 31\n",
      "Le mot le plus représenté est: de avec 166 occurences\n"
     ]
    }
   ],
   "source": [
    "fileName = input('what is your file name?')\n",
    "try :\n",
    "    handle = open(fileName)\n",
    "\n",
    "except:\n",
    "    print(\"file can not be opened:\", fileName)\n",
    "    quit()\n",
    "\n",
    "currentWords = ['environ', 'quelques', 'quand', 'j\\'étais', 'pense', 'encore','d\\'une',\"qu'elle\",\"qu'elles\",'tout', 'avoir', 'alors', 'notre', 'cela', 'd\\'un', 'très', 'j\\'ai', 'être', 'était', 'bien','qu\\'il', 'cette', 'donc', 'dans', 'fait', 'comme', 'leur', 'avec', 'même', 'aussi', 'suis', 'dire', 'tous', 'quelque', 'nous', 'mais', 'plus','pour', 'parce', 'c\\'est', 'elle', 'il', 'elles', 'ils', 'vous', 'sont', 'chose']\n",
    "    \n",
    "wordCount = dict()\n",
    "for line in handle:\n",
    "    words = line.split()\n",
    "    for word in words:\n",
    "        word = word.strip('.,-:!?')\n",
    "        word = word.lower()\n",
    "        wordCount[word]=wordCount.get(word, 0)+1\n",
    "\n",
    "wordCountSorted = {k: v for k, v in sorted(wordCount.items(), key=lambda item: item[1])}\n",
    "#print(wordCountSorted)\n",
    "\n",
    "#Find the biggest count\n",
    "bigWords = dict()\n",
    "biggestWord = None\n",
    "biggestCount = None\n",
    "for word, count in wordCountSorted.items():\n",
    "    if word not in currentWords:\n",
    "        if biggestCount == None or count > biggestCount :\n",
    "            biggestWord = word\n",
    "            biggestCount = count\n",
    "        if (len(word) > 3 and count > 7) or (len(word)>6 and count > 2):\n",
    "            print(word, count)\n",
    "        \n",
    "print(f\"Le mot le plus représenté est: {biggestWord} avec {biggestCount} occurences\")"
   ]
  },
  {
   "cell_type": "code",
   "execution_count": null,
   "id": "aa8a68e7",
   "metadata": {},
   "outputs": [],
   "source": []
  },
  {
   "cell_type": "code",
   "execution_count": null,
   "id": "8de5d646",
   "metadata": {},
   "outputs": [],
   "source": []
  }
 ],
 "metadata": {
  "kernelspec": {
   "display_name": "Python 3",
   "language": "python",
   "name": "python3"
  },
  "language_info": {
   "codemirror_mode": {
    "name": "ipython",
    "version": 3
   },
   "file_extension": ".py",
   "mimetype": "text/x-python",
   "name": "python",
   "nbconvert_exporter": "python",
   "pygments_lexer": "ipython3",
   "version": "3.9.5"
  }
 },
 "nbformat": 4,
 "nbformat_minor": 5
}
