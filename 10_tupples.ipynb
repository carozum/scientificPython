{
 "cells": [
  {
   "cell_type": "markdown",
   "id": "73b11395",
   "metadata": {},
   "source": [
    "Tupples are immutables, once assigned content can not be reassigned. Less storage, quicker to access --> more efficient than lists. Can't use the method for list on tupple : sort, reverse, append will not work on tuples. Higher performance, better memery use. "
   ]
  },
  {
   "cell_type": "code",
   "execution_count": 1,
   "id": "ab017aac",
   "metadata": {},
   "outputs": [
    {
     "name": "stdout",
     "output_type": "stream",
     "text": [
      "caro\n"
     ]
    }
   ],
   "source": [
    "y = (1, 9, 3) # is a tupple\n",
    "(fname, lname) = ('caro', 'zum')\n",
    "print(fname)"
   ]
  },
  {
   "cell_type": "markdown",
   "id": "d43cc8ff",
   "metadata": {},
   "source": [
    "You can put a tupple on the left hand side of an assignment."
   ]
  },
  {
   "cell_type": "markdown",
   "id": "a1dbe08d",
   "metadata": {},
   "source": [
    "Tupples also have to do with dictionaries"
   ]
  },
  {
   "cell_type": "code",
   "execution_count": null,
   "id": "e81746e8",
   "metadata": {},
   "outputs": [],
   "source": []
  }
 ],
 "metadata": {
  "kernelspec": {
   "display_name": "Python 3",
   "language": "python",
   "name": "python3"
  },
  "language_info": {
   "codemirror_mode": {
    "name": "ipython",
    "version": 3
   },
   "file_extension": ".py",
   "mimetype": "text/x-python",
   "name": "python",
   "nbconvert_exporter": "python",
   "pygments_lexer": "ipython3",
   "version": "3.9.5"
  }
 },
 "nbformat": 4,
 "nbformat_minor": 5
}
