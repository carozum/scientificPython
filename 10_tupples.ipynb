{
 "cells": [
  {
   "cell_type": "markdown",
   "id": "a2db35eb",
   "metadata": {},
   "source": [
    "Tupples are immutables, once assigned content can not be reassigned. Less storage, quicker to access --> more efficient than lists. Can't use the method for list on tupple : sort, reverse, append will not work on tuples. Higher performance, better memery use. "
   ]
  },
  {
   "cell_type": "code",
   "execution_count": 1,
   "id": "078d711d",
   "metadata": {},
   "outputs": [
    {
     "name": "stdout",
     "output_type": "stream",
     "text": [
      "caro\n"
     ]
    }
   ],
   "source": [
    "y = (1, 9, 3) # is a tupple\n",
    "(fname, lname) = ('caro', 'zum')\n",
    "print(fname)"
   ]
  },
  {
   "cell_type": "markdown",
   "id": "0e8ec54f",
   "metadata": {},
   "source": [
    "You can put a tupple on the left hand side of an assignment."
   ]
  },
  {
   "cell_type": "markdown",
   "id": "e67167a8",
   "metadata": {},
   "source": [
    "Tupples also have to do with dictionaries"
   ]
  },
  {
   "cell_type": "code",
   "execution_count": 4,
   "id": "82871925",
   "metadata": {},
   "outputs": [
    {
     "name": "stdout",
     "output_type": "stream",
     "text": [
      "Caro 45\n",
      "MS 47\n",
      "dict_items([('Caro', 45), ('MS', 47)])\n"
     ]
    }
   ],
   "source": [
    "myDico = dict()\n",
    "myDico['Caro'] = 45\n",
    "myDico['MS'] = 47\n",
    "for (k,v) in myDico.items():\n",
    "    print(k, v)\n",
    "print(myDico.items())"
   ]
  },
  {
   "cell_type": "markdown",
   "id": "c9b1315b",
   "metadata": {},
   "source": [
    "Tupples are comparables in the same way as lists and strings (ordered collection). The first element is the most significant and the stops there or if the 2 elements are the same, goes to the second one. "
   ]
  },
  {
   "cell_type": "code",
   "execution_count": 5,
   "id": "48f1ec4c",
   "metadata": {},
   "outputs": [
    {
     "data": {
      "text/plain": [
       "False"
      ]
     },
     "execution_count": 5,
     "metadata": {},
     "output_type": "execute_result"
    }
   ],
   "source": [
    "(1, 2, 3) > (1, 3, 5)"
   ]
  },
  {
   "cell_type": "code",
   "execution_count": 7,
   "id": "021c5518",
   "metadata": {},
   "outputs": [
    {
     "data": {
      "text/plain": [
       "True"
      ]
     },
     "execution_count": 7,
     "metadata": {},
     "output_type": "execute_result"
    }
   ],
   "source": [
    "('Caro',45)<('MS', 47)"
   ]
  },
  {
   "cell_type": "markdown",
   "id": "3b6bce43",
   "metadata": {},
   "source": [
    "We can take advantage of the hability to sort a list of tuples to get a sorted version of a dictionnary. We have been using the sorted method that can be applied on a list. The .items() method on a dictionary returns a list of tupples. "
   ]
  },
  {
   "cell_type": "code",
   "execution_count": 9,
   "id": "aa8e0ae8",
   "metadata": {},
   "outputs": [
    {
     "name": "stdout",
     "output_type": "stream",
     "text": [
      "[('a', 10), ('b', 21), ('c', 2)]\n"
     ]
    }
   ],
   "source": [
    "dico = {'a': 10, 'c':2, 'b': 21}\n",
    "dicoList = dico.items()           # first step convert dictionary into a list\n",
    "dicoListSortedKey = sorted(dicoList) #second step sort the dictionary by key\n",
    "print(dicoListSortedKey)"
   ]
  },
  {
   "cell_type": "markdown",
   "id": "8e207a9b",
   "metadata": {},
   "source": [
    "But what if we want to sort the dictionary by values ?? we are going to contruct a list of tupples as for the previous example but instead tupples will not be (k, v) but (v, k). reverse True is to have the highest value first (descending). "
   ]
  },
  {
   "cell_type": "code",
   "execution_count": 19,
   "id": "6ca55f0d",
   "metadata": {},
   "outputs": [
    {
     "name": "stdout",
     "output_type": "stream",
     "text": [
      "[(10, 'a'), (2, 'c'), (21, 'b')]\n",
      "[(21, 'b'), (10, 'a'), (2, 'c')]\n"
     ]
    }
   ],
   "source": [
    "dico = {'a': 10, 'c':2, 'b': 21}\n",
    "listReversed = list()       #first step create a list of tuples\n",
    "for k,v in dico.items():\n",
    "    listReversed.append((v, k))\n",
    "print(listReversed)\n",
    "\n",
    "listSortedValues = sorted(listReversed, reverse=True)    #step 2 sort the list\n",
    "print(listSortedValues)"
   ]
  },
  {
   "cell_type": "code",
   "execution_count": 33,
   "id": "6ee09164",
   "metadata": {},
   "outputs": [
    {
     "name": "stdout",
     "output_type": "stream",
     "text": [
      "what is your file name?data.txt\n",
      "femmes 31\n",
      "homme 29\n",
      "femme 29\n",
      "hommes 27\n",
      "féministe 20\n",
      "filles 16\n",
      "monde 12\n",
      "garçons 12\n",
      "culture 12\n",
      "l'homme 11\n",
      "genre 11\n",
      "sexes 10\n",
      "personne 10\n",
      "louis 10\n",
      "pouvoir 9\n",
      "mariage 9\n",
      "garçon 9\n",
      "classe 9\n",
      "pourquoi 8\n",
      "fille 8\n",
      "choses 8\n",
      "souvent 7\n",
      "rôle 7\n",
      "maintenant 7\n",
      "d'être 7\n",
      "d'hommes 7\n"
     ]
    }
   ],
   "source": [
    "fileName = input('what is your file name?')\n",
    "try :\n",
    "    handle = open(fileName)\n",
    "\n",
    "except:\n",
    "    print(\"file can not be opened:\", fileName)\n",
    "    quit()\n",
    "\n",
    "currentWords = ['peut', 'connais','faire', '(rires)', '(applaudissements)','environ', 'quelques', 'quand', 'j\\'étais', 'pense', 'encore','d\\'une',\"qu'elle\",\"qu'elles\",'tout', 'avoir', 'alors', 'notre', 'cela', 'd\\'un', 'très', 'j\\'ai', 'être', 'était', 'bien','qu\\'il', 'cette', 'donc', 'dans', 'fait', 'comme', 'leur', 'avec', 'même', 'aussi', 'suis', 'dire', 'tous', 'quelque', 'nous', 'mais', 'plus','pour', 'parce', 'c\\'est', 'elle', 'il', 'elles', 'ils', 'vous', 'sont', 'chose']\n",
    "\n",
    "# create a dictionary with words as key and occurence as value\n",
    "wordCount = dict()\n",
    "for line in handle:\n",
    "    words = line.split()\n",
    "    for word in words:\n",
    "        word = word.strip('.,-:!?')\n",
    "        word = word.lower()\n",
    "        wordCount[word]=wordCount.get(word, 0)+1\n",
    "#print(wordCountSorted)\n",
    "\n",
    "# sort the dictionary on values creating a list of tuples (v, k)\n",
    "lst = list()\n",
    "for k,v in wordCount.items():\n",
    "    lst.append((v, k))  \n",
    "lst = sorted(lst, reverse=True)\n",
    "\n",
    "\n",
    "# print the 20th biggest values\n",
    "for (v, k) in lst[:120]:\n",
    "    if len(k) > 3 and k not in currentWords: \n",
    "        print(k, v)\n"
   ]
  },
  {
   "cell_type": "markdown",
   "id": "91bea057",
   "metadata": {},
   "source": [
    "Even shorter method, sorted() takes an input a list. We use a list comprehension to create a new list.  A list comprehension manufactured a list on the moment using a for loop\n"
   ]
  },
  {
   "cell_type": "code",
   "execution_count": 42,
   "id": "ec382ea6",
   "metadata": {},
   "outputs": [
    {
     "name": "stdout",
     "output_type": "stream",
     "text": [
      "what is your file name?data.txt\n",
      "femmes 31\n",
      "homme 29\n",
      "femme 29\n",
      "hommes 27\n",
      "féministe 20\n",
      "filles 16\n",
      "monde 12\n",
      "garçons 12\n",
      "culture 12\n",
      "l'homme 11\n",
      "genre 11\n",
      "sexes 10\n",
      "personne 10\n",
      "louis 10\n",
      "pouvoir 9\n",
      "mariage 9\n",
      "garçon 9\n",
      "classe 9\n",
      "pourquoi 8\n",
      "fille 8\n",
      "choses 8\n",
      "souvent 7\n",
      "rôle 7\n",
      "maintenant 7\n",
      "d'être 7\n",
      "d'hommes 7\n"
     ]
    }
   ],
   "source": [
    "fileName = input('what is your file name?')\n",
    "try :\n",
    "    handle = open(fileName)\n",
    "\n",
    "except:\n",
    "    print(\"file can not be opened:\", fileName)\n",
    "    quit()\n",
    "\n",
    "currentWords = ['peut', 'connais','faire', '(rires)', '(applaudissements)','environ', 'quelques', 'quand', 'j\\'étais', 'pense', 'encore','d\\'une',\"qu'elle\",\"qu'elles\",'tout', 'avoir', 'alors', 'notre', 'cela', 'd\\'un', 'très', 'j\\'ai', 'être', 'était', 'bien','qu\\'il', 'cette', 'donc', 'dans', 'fait', 'comme', 'leur', 'avec', 'même', 'aussi', 'suis', 'dire', 'tous', 'quelque', 'nous', 'mais', 'plus','pour', 'parce', 'c\\'est', 'elle', 'il', 'elles', 'ils', 'vous', 'sont', 'chose']\n",
    "\n",
    "# create a dictionary with words as key and occurence as value\n",
    "wordCount = dict()\n",
    "for line in handle:\n",
    "    words = line.split()\n",
    "    for word in words:\n",
    "        word = word.strip('.,-:!?')\n",
    "        word = word.lower()\n",
    "        wordCount[word]=wordCount.get(word, 0)+1\n",
    "#print(wordCountSorted)\n",
    "\n",
    "# sort the dictionary on values creating a list of tuples (v, k)\n",
    "lst = [(v, k) for k, v in wordCount.items()]\n",
    "sortedLst = sorted(lst, reverse=True)\n",
    "#print(sortedLst)\n",
    "\n",
    "# print the 20th biggest values\n",
    "for (v, k) in sortedLst[:120]:\n",
    "    if len(k) > 3 and k not in currentWords: \n",
    "        print(k, v)\n"
   ]
  },
  {
   "cell_type": "code",
   "execution_count": null,
   "id": "62882835",
   "metadata": {},
   "outputs": [],
   "source": []
  }
 ],
 "metadata": {
  "kernelspec": {
   "display_name": "Python 3",
   "language": "python",
   "name": "python3"
  },
  "language_info": {
   "codemirror_mode": {
    "name": "ipython",
    "version": 3
   },
   "file_extension": ".py",
   "mimetype": "text/x-python",
   "name": "python",
   "nbconvert_exporter": "python",
   "pygments_lexer": "ipython3",
   "version": "3.9.5"
  }
 },
 "nbformat": 4,
 "nbformat_minor": 5
}
