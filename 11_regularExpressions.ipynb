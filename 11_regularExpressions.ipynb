{
 "cells": [
  {
   "cell_type": "markdown",
   "id": "830cfda8",
   "metadata": {},
   "source": [
    "regular expressions. Regex, a particular language that is interpreted by a regular expression processor. Very structured way to go about searching for information. Very powerful but also very cryptic. Very alod programming language that comes almost from the 1960's.     \n",
    "https://docs.python.org/3/howto/regex.html     \n",
    "https://docs.python.org/3/library/re.html     \n",
    "https://cheatography.com/mutanclan/cheat-sheets/python-regular-expression-regex/     https://www.geeksforgeeks.org/how-to-write-to-an-html-file-in-python/     "
   ]
  },
  {
   "cell_type": "markdown",
   "id": "cee6c965",
   "metadata": {},
   "source": [
    "^ matches the beginning of a line   \n",
    "$ matches the end of a line.      \n",
    "'. matches any character    '   \n",
    "'\\s matches whitespaces'   \n",
    "'\\S matches any non-whitespace character'   \n",
    "'* repeats a character 0 or more times, IS placed after the character that can be repeated for example .* means repeat any character as you want'   \n",
    "'*? repeats a character 0 or more times (non-greedy)'   \n",
    "'+ repeats a character one or more times'   \n",
    "'+? repeats a character one or more times (non-greedy)'   \n",
    "[aeiou] matches a single character in the listed set    \n",
    "[^XYZ] matches a single character not in the listed set    \n",
    "[a-z0-9] the set of characters can include a range    \n",
    "( indicates where string extraction is to start    \n",
    ")indicates where string extraction is to end.    \n"
   ]
  },
  {
   "cell_type": "markdown",
   "id": "782db86d",
   "metadata": {},
   "source": [
    "MATCHING - re.search()to see if a string matches a regular expression, similar to using find() method for strings. re.findall() to extract portions of a string that matches your regumar expression, similar to a combination of find() and slicing [:]"
   ]
  },
  {
   "cell_type": "code",
   "execution_count": 28,
   "id": "845b794c",
   "metadata": {},
   "outputs": [
    {
     "name": "stdout",
     "output_type": "stream",
     "text": [
      "None\n"
     ]
    }
   ],
   "source": [
    "line = 'hello everybody, everything is cool today'\n",
    "word = 'happy'\n",
    "research = re.search(word, line)\n",
    "print(research)"
   ]
  },
  {
   "cell_type": "code",
   "execution_count": 29,
   "id": "df63efd1",
   "metadata": {},
   "outputs": [
    {
     "name": "stdout",
     "output_type": "stream",
     "text": [
      "<re.Match object; span=(31, 35), match='cool'>\n"
     ]
    }
   ],
   "source": [
    "line = 'hello everybody, everything is cool today'\n",
    "research = re.search('cool', line)\n",
    "print(research)"
   ]
  },
  {
   "cell_type": "code",
   "execution_count": 30,
   "id": "e11d79d4",
   "metadata": {},
   "outputs": [
    {
     "name": "stdout",
     "output_type": "stream",
     "text": [
      "nothing found\n"
     ]
    }
   ],
   "source": [
    "line = 'hello everybody, everything is cool today'\n",
    "word = '^everybody'  #searching for everybody at the beginning\n",
    "if re.search(word, line):\n",
    "    print(line)\n",
    "else :\n",
    "    print('nothing found')"
   ]
  },
  {
   "cell_type": "code",
   "execution_count": 31,
   "id": "10246ba4",
   "metadata": {},
   "outputs": [
    {
     "name": "stdout",
     "output_type": "stream",
     "text": [
      "<re.Match object; span=(0, 8), match='X-Sieve:'>\n"
     ]
    }
   ],
   "source": [
    "line2 = 'X-Sieve: CMU Sieve 2.3'\n",
    "print(re.search('^X-\\S+:', line2))"
   ]
  },
  {
   "cell_type": "code",
   "execution_count": 32,
   "id": "f4669259",
   "metadata": {},
   "outputs": [
    {
     "name": "stdout",
     "output_type": "stream",
     "text": [
      "None\n"
     ]
    }
   ],
   "source": [
    "line3 = 'X-Sieve : CMU Sieve 2.3'\n",
    "print(re.search('^X-\\S+:', line3))"
   ]
  },
  {
   "cell_type": "markdown",
   "id": "d8ddb6cd",
   "metadata": {},
   "source": [
    "MATCHING AND EXTRACTING"
   ]
  },
  {
   "cell_type": "code",
   "execution_count": 47,
   "id": "6db54ce5",
   "metadata": {},
   "outputs": [
    {
     "name": "stdout",
     "output_type": "stream",
     "text": [
      "['2', '19', '42']\n",
      "[]\n",
      "['my 2 favorite numbers are 19 and 42 as my mail is czum@mail.com of cours']\n",
      "['my 2 favorite numbers']\n",
      "['czum@mail.com']\n"
     ]
    }
   ],
   "source": [
    "import re\n",
    "x ='my 2 favorite numbers are 19 and 42 as my mail is czum@mail.com of course'\n",
    "y = re.findall('[0-9]+', x)# [0-9] single digit, [0-9]+ one or more digits\n",
    "print(y) #returns a list of corresponding items\n",
    "z = re.findall('[AEIOU]+', x)\n",
    "print(z)\n",
    "yz = re.findall('^m.*s', x) #begins with m, ends with s and between all characters are authorised\n",
    "print(yz) #selects the longest string\n",
    "yzx = re.findall('^m.+?s', x) #begins with m, ends with s and between all characters are authorised\n",
    "print(yzx) #selects the shortest string because Greedy: ?\n",
    "yy = re.findall('\\S+@\\S+', x) # at least 1 non-whitespace character at the begenning and at the end. and a @ inside.\n",
    "print(yy)\n",
    "zz = re.findall('^my (\\S+@\\S+)', x)\n",
    "# space and parenthesis : tells the start your extraction and stop your extraction. Can differ from matching "
   ]
  },
  {
   "cell_type": "code",
   "execution_count": 34,
   "id": "794d6b16",
   "metadata": {},
   "outputs": [
    {
     "name": "stdout",
     "output_type": "stream",
     "text": [
      "['csev@umich.edu', 'cwen@iupui.edu']\n"
     ]
    }
   ],
   "source": [
    "import re\n",
    "s = 'A message from csev@umich.edu to cwen@iupui.edu about meeting @2PM'\n",
    "lst = re.findall('\\\\S+@\\\\S+', s)\n",
    "print(lst)"
   ]
  },
  {
   "cell_type": "code",
   "execution_count": 52,
   "id": "ddb99383",
   "metadata": {},
   "outputs": [
    {
     "name": "stdout",
     "output_type": "stream",
     "text": [
      "['mail.com']\n"
     ]
    }
   ],
   "source": [
    "x ='my 2 favorite numbers are 19 and 42 as my mail is czum@mail.com of course'\n",
    "print(re.findall('^my.*@([^ ]*)', x))"
   ]
  },
  {
   "cell_type": "markdown",
   "id": "d4bf36e3",
   "metadata": {},
   "source": [
    "To look for a $ sign, you have to type '\\$'. Ex : '\\$[0-9.]+'"
   ]
  }
 ],
 "metadata": {
  "kernelspec": {
   "display_name": "Python 3",
   "language": "python",
   "name": "python3"
  },
  "language_info": {
   "codemirror_mode": {
    "name": "ipython",
    "version": 3
   },
   "file_extension": ".py",
   "mimetype": "text/x-python",
   "name": "python",
   "nbconvert_exporter": "python",
   "pygments_lexer": "ipython3",
   "version": "3.9.5"
  }
 },
 "nbformat": 4,
 "nbformat_minor": 5
}
