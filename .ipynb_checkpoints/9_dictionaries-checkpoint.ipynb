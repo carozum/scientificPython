{
 "cells": [
  {
   "cell_type": "markdown",
   "id": "edcd8f43",
   "metadata": {},
   "source": [
    "méthode sur les dictionnaires : get('key', valeur par défaut), valeur par défaut si la clé n'existe pas"
   ]
  },
  {
   "cell_type": "code",
   "execution_count": 18,
   "id": "1cb8aabf",
   "metadata": {},
   "outputs": [
    {
     "name": "stdout",
     "output_type": "stream",
     "text": [
      "0\n",
      "notes12\n",
      "notes19\n",
      "notes19\n",
      "notes19\n",
      "{'caro': 12, 'ms': 19, 'astrid': 19, 'emilie': 19}\n"
     ]
    }
   ],
   "source": [
    "dico = {'name':\"caro\", \"age\": 45}\n",
    "age = dico.get('Age', 0)\n",
    "print(age)\n",
    "\n",
    "notes = dict()\n",
    "names = ['caro', \"ms\", 'astrid', 'emilie']\n",
    "for name in names:\n",
    "    note = int(input('notes'))\n",
    "    notes[name] = note\n",
    "print(notes)"
   ]
  },
  {
   "cell_type": "code",
   "execution_count": 2,
   "id": "294d7081",
   "metadata": {},
   "outputs": [
    {
     "name": "stdout",
     "output_type": "stream",
     "text": [
      "annie 42\n",
      "jan 100\n"
     ]
    }
   ],
   "source": [
    "counts = { 'chuck' : 1 , 'annie' : 42, 'jan': 100}\n",
    "for key in counts:\n",
    "    if counts[key] > 10:\n",
    "        value = counts[key]\n",
    "        print(key, value)"
   ]
  },
  {
   "cell_type": "code",
   "execution_count": 5,
   "id": "f277cbc3",
   "metadata": {},
   "outputs": [
    {
     "name": "stdout",
     "output_type": "stream",
     "text": [
      "['chuck', 'annie', 'jan']\n",
      "dict_keys(['chuck', 'annie', 'jan'])\n",
      "dict_values([1, 42, 100])\n",
      "dict_items([('chuck', 1), ('annie', 42), ('jan', 100)])\n",
      "chuck 1\n",
      "annie 42\n",
      "jan 100\n"
     ]
    }
   ],
   "source": [
    "print(list(counts))\n",
    "print(counts.keys())\n",
    "print(counts.values())\n",
    "print(counts.items())\n",
    "# 2 iteration variables\n",
    "for key, value in counts.items():\n",
    "    print(key, value)"
   ]
  },
  {
   "cell_type": "markdown",
   "id": "37ecc111",
   "metadata": {},
   "source": [
    "Programme qui réalise un nuage de mots à partir d'un fichier"
   ]
  },
  {
   "cell_type": "code",
   "execution_count": 37,
   "id": "e9145ccb",
   "metadata": {},
   "outputs": [
    {
     "name": "stdout",
     "output_type": "stream",
     "text": [
      "what is your file name?data.txt\n",
      "demandé 3\n",
      "commencer 3\n",
      "opinion 3\n",
      "première 3\n",
      "regarda 3\n",
      "qualifier 3\n",
      "nigériane 3\n",
      "féminisme 3\n",
      "étaient 3\n",
      "africaine 3\n",
      "détestez 3\n",
      "exemple 3\n",
      "meilleure 3\n",
      "évident 3\n",
      "féminin 3\n",
      "masculin 3\n",
      "particulièrement 3\n",
      "différents 3\n",
      "chances 3\n",
      "général 3\n",
      "demande 3\n",
      "nombreux 3\n",
      "serveur 3\n",
      "serveurs 3\n",
      "société 3\n",
      "parfois 3\n",
      "signifie 3\n",
      "devrions 3\n",
      "capacité 3\n",
      "changer 3\n",
      "demander 3\n",
      "parents 3\n",
      "s'attend 3\n",
      "certain 3\n",
      "personnes 3\n",
      "faisons 3\n",
      "virginité 3\n",
      "pensent 3\n",
      "ménagères 3\n",
      "cuisine 3\n",
      "j'allais 3\n",
      "paraître 3\n",
      "jour-là 3\n",
      "dites-vous 3\n",
      "expérience 3\n",
      "tellement 4\n",
      "voulait 4\n",
      "voulais 4\n",
      "nigérians 4\n",
      "ensuite 4\n",
      "vraiment 4\n",
      "déteste 4\n",
      "devenir 4\n",
      "important 4\n",
      "différentes 4\n",
      "peuvent 4\n",
      "physiquement 4\n",
      "simplement 4\n",
      "petites 4\n",
      "différemment 4\n",
      "famille 4\n",
      "langage 4\n",
      "deviennent 4\n",
      "problème 4\n",
      "sérieux 4\n",
      "conversation 4\n",
      "certains 4\n",
      "heureuse 5\n",
      "nigéria 5\n",
      "n'était 5\n",
      "l'argent 5\n",
      "j'avais 5\n",
      "enfants 5\n",
      "comment 5\n",
      "masculinité 5\n",
      "enseignons 5\n",
      "toujours 5\n",
      "inquiète 5\n",
      "grandissent 5\n",
      "okuloma 6\n",
      "délégué 6\n",
      "c'était 6\n",
      "travail 6\n",
      "manière 6\n",
      "maintenant 7\n",
      "souvent 7\n",
      "d'hommes 7\n",
      "beaucoup 7\n",
      "aujourd'hui 7\n",
      "connais 7\n",
      "fille 8\n",
      "choses 8\n",
      "pourquoi 8\n",
      "garçon 9\n",
      "classe 9\n",
      "pouvoir 9\n",
      "mariage 9\n",
      "(applaudissements) 10\n",
      "personne 10\n",
      "louis 10\n",
      "sexes 10\n",
      "l'homme 11\n",
      "genre 11\n",
      "monde 12\n",
      "culture 12\n",
      "garçons 12\n",
      "filles 16\n",
      "(rires) 17\n",
      "faire 17\n",
      "féministe 20\n",
      "hommes 27\n",
      "homme 29\n",
      "femme 29\n",
      "femmes 31\n",
      "Le mot le plus représenté est: de avec 166 occurences\n"
     ]
    }
   ],
   "source": [
    "fileName = input('what is your file name?')\n",
    "try :\n",
    "    handle = open(fileName)\n",
    "\n",
    "except:\n",
    "    print(\"file can not be opened:\", fileName)\n",
    "    quit()\n",
    "\n",
    "currentWords = ['environ', 'quelques', 'quand', 'j\\'étais', 'pense', 'encore','d\\'une',\"qu'elle\",\"qu'elles\",'tout', 'avoir', 'alors', 'notre', 'cela', 'd\\'un', 'très', 'j\\'ai', 'être', 'était', 'bien','qu\\'il', 'cette', 'donc', 'dans', 'fait', 'comme', 'leur', 'avec', 'même', 'aussi', 'suis', 'dire', 'tous', 'quelque', 'nous', 'mais', 'plus','pour', 'parce', 'c\\'est', 'elle', 'il', 'elles', 'ils', 'vous', 'sont', 'chose']\n",
    "    \n",
    "wordCount = dict()\n",
    "for line in handle:\n",
    "    words = line.split()\n",
    "    for word in words:\n",
    "        word = word.strip('.,-:!?')\n",
    "        word = word.lower()\n",
    "        wordCount[word]=wordCount.get(word, 0)+1\n",
    "\n",
    "wordCountSorted = {k: v for k, v in sorted(wordCount.items(), key=lambda item: item[1])}\n",
    "#print(wordCountSorted)\n",
    "\n",
    "#Find the biggest count\n",
    "bigWords = dict()\n",
    "biggestWord = None\n",
    "biggestCount = None\n",
    "for word, count in wordCountSorted.items():\n",
    "    if word not in currentWords:\n",
    "        if biggestCount == None or count > biggestCount :\n",
    "            biggestWord = word\n",
    "            biggestCount = count\n",
    "        if (len(word) > 3 and count > 7) or (len(word)>6 and count > 2):\n",
    "            print(word, count)\n",
    "        \n",
    "print(f\"Le mot le plus représenté est: {biggestWord} avec {biggestCount} occurences\")"
   ]
  },
  {
   "cell_type": "code",
   "execution_count": null,
   "id": "aa8a68e7",
   "metadata": {},
   "outputs": [],
   "source": []
  },
  {
   "cell_type": "code",
   "execution_count": null,
   "id": "8de5d646",
   "metadata": {},
   "outputs": [],
   "source": []
  }
 ],
 "metadata": {
  "kernelspec": {
   "display_name": "Python 3",
   "language": "python",
   "name": "python3"
  },
  "language_info": {
   "codemirror_mode": {
    "name": "ipython",
    "version": 3
   },
   "file_extension": ".py",
   "mimetype": "text/x-python",
   "name": "python",
   "nbconvert_exporter": "python",
   "pygments_lexer": "ipython3",
   "version": "3.9.5"
  }
 },
 "nbformat": 4,
 "nbformat_minor": 5
}
