{
 "cells": [
  {
   "cell_type": "markdown",
   "id": "8d26b730",
   "metadata": {},
   "source": [
    "### TCP : transport contol protocol"
   ]
  },
  {
   "cell_type": "markdown",
   "id": "2343b6ab",
   "metadata": {},
   "source": [
    "Built on top of IP (internet Protocole). provides a nice reliable pipe. As when we make a phone call. \n",
    "A socket (the phone number...) is one endpoint of a two-way communication (send and receive) link between two programs running on the network. A socket is bound to a port number so that the TCP layer can identify the application that data is destined to be sent to. An endpoint is a combination of an IP address and a port number"
   ]
  },
  {
   "cell_type": "markdown",
   "id": "5fee1231",
   "metadata": {},
   "source": [
    "### the port number\n",
    "The port number is an extension of the IP address to deal with different services located at the same address : commonly used  default extensions, for various network application processes that are serving us data.\n",
    "- different computers, \n",
    "- incoming email (port 25, SMTP)\n",
    "- personal mail box port 109, 110\n",
    "- Web server : (port 80, HTTP) or (port 443, hTTPS)\n",
    "- login : (port 23, telnet login) (port 22, secure login)\n",
    "- DNS : domain name system, port 53\n",
    "- mail retrieval : (port 143/220/993, IMAP), (port 109/110, POP)\n",
    "- FTP, file transfer, port 21"
   ]
  },
  {
   "cell_type": "markdown",
   "id": "bf2a4f94",
   "metadata": {},
   "source": [
    "### TCP sockets\n",
    "In python we can talk with the sockets. Python has built in support for TCP sockets. \n",
    "https://docs.python.org/3/library/socket.html\n",
    "Since TCP (and Python) gives us a reliable socket, what do we want to do with the socket? what problem do we want to solve ? There are different protocols based on the type of application : Application protocol for mail, world wide web, file transfert, remote login... they all use, sort of sockets at their lower level, but then on top of that, they layer the rules of the road for their application domain.      \n",
    "The domain protocol (set of rules) we are going to use here is the HTTP protocol (HyperText tranfer protocol), dominant application layer protocol on the internet. Invented for the web. Set of rules to allow browsers to retrieve web documents from servers over the Internet. "
   ]
  },
  {
   "cell_type": "markdown",
   "id": "5503dd62",
   "metadata": {},
   "source": [
    "### URL \n",
    "Uniform resource Locator : http://www.dr-chuck.com/page1.html http:// is the protocol. www.dr-chuck.com is the host. page1.html is the document. Encrypted and included in themselves a protocol, the host to connect to and the document to retrieve. \n",
    "1. I click on a button on in my app or process\n",
    "2. when my browser sees the click inside my computer, then the browser makes a connection to port 80 on the web server dr-chuck.com and sends a request\n",
    "3. this request is precisely specified by standards (GET method is usually used to access a website)\n",
    "4. then the server does some magic work : reads some files, runs som code, does whatever, constructs an answer to our phone call and sends it back. In this case, it sends back a webpage in the format of HTML (HypertextMarkupLanguage)\n",
    "5. my browser gets this back and then renders it according to the rules of HTML and CSS and JS"
   ]
  },
  {
   "cell_type": "markdown",
   "id": "36b97429",
   "metadata": {},
   "source": [
    "### an HTTP request in python\n",
    "let's write a web browser using python. This is an entire web browser written in 10 lines of python. "
   ]
  },
  {
   "cell_type": "code",
   "execution_count": 8,
   "id": "a001b1c3",
   "metadata": {},
   "outputs": [
    {
     "name": "stdout",
     "output_type": "stream",
     "text": [
      "HTTP/1.1 200 OK\r\n",
      "Date: Thu, 23 Jun 2022 07:22:43 GMT\r\n",
      "Server: Apache/2.4.18 (Ubuntu)\r\n",
      "Last-Modified: Sat, 13 May 2017 11:22:22 GMT\r\n",
      "ETag: \"a7-54f6609245537\"\r\n",
      "Accept-Ranges: bytes\r\n",
      "Content-Length: 167\r\n",
      "Cache-Control: max-age=0, no-cache, no-store, must-revalidate\r\n",
      "Pragma: no-cache\r\n",
      "Expires: Wed, 11 Jan 1984 05:00:00 GMT\r\n",
      "Connection: close\r\n",
      "Content-Type: text/plain\r\n",
      "\r\n",
      "But soft what light through yonder window breaks\n",
      "It is the east and Juliet is the sun\n",
      "Arise fair sun and kill the envious moon\n",
      "Who is already sick and pale with grief\n"
     ]
    }
   ],
   "source": [
    "import socket\n",
    "# as for a phone call, my broowser finds the number\n",
    "mysock = socket.socket(socket.AF_INET, socket.SOCK_STREAM)\n",
    "# my browser composes the number : opening a connection\n",
    "mysock.connect(('data.pr4e.org', 80))\n",
    "# and encodes a question as it will go outside in bytes UTF-8\n",
    "cmd = 'GET http://data.pr4e.org/romeo.txt HTTP/1.0\\r\\n\\r\\n'.encode()\n",
    "#before it sends the question on the internet : sending the get request\n",
    "# sending the new line\n",
    "mysock.send(cmd)\n",
    "\n",
    "# the server has received the request and is preparing an answer.\n",
    "# then sends us the answer\n",
    "\n",
    "while True:\n",
    "    # my browser is receiving an answer (512 characters at a time)\n",
    "    data = mysock.recv(512)\n",
    "    # if we get 0 characters that means the end of the stream and the stream is closed. \n",
    "    if len(data) < 1:\n",
    "        break\n",
    "    # data is decode from bytes UTF-8 to strings as it comes from the exterior\n",
    "    print(data.decode(),end='')\n",
    "mysock.close()"
   ]
  },
  {
   "cell_type": "markdown",
   "id": "97b92407",
   "metadata": {},
   "source": [
    "### Unicode\n",
    "ASCII : Each character is represented by a number between 0 and 256 stored in 8 bits of memory. We refer to \"8 bits of memory\" as \"byte\" of memory (my disk drive contains 3 teraBytes of memory). The ord() function tells us the numeric value of a simple ASCII character : numeric representation\n",
    "ASCII : stores on 1 byte\n",
    "UTF-8 1-4 bytes dynamically adapted. Sort of a compression. \n",
    "String are unicode in python 3 : encode in UTF-8 before sending (.encode()). and decode() when coming back"
   ]
  },
  {
   "cell_type": "code",
   "execution_count": 9,
   "id": "81f57aed",
   "metadata": {},
   "outputs": [
    {
     "name": "stdout",
     "output_type": "stream",
     "text": [
      "72\n",
      "10\n",
      "37\n"
     ]
    }
   ],
   "source": [
    "print(ord('H'))\n",
    "print(ord('\\n'))\n",
    "print(ord('%'))"
   ]
  },
  {
   "cell_type": "markdown",
   "id": "eb2240d4",
   "metadata": {},
   "source": [
    "### Using urllib in Python\n",
    "All that staff with sockets : creating a socket, opening a connection, encoding, sending a request... is done almost every time and has been put into a library so that we ca do all the stuff in only a few lines of code. Since HTTP is so common, we have a library that does all the socket work for us and makes web pages look like a file. gives us back line in a list but lines are bytes so we have to decode them into strings."
   ]
  },
  {
   "cell_type": "code",
   "execution_count": 10,
   "id": "7716ada2",
   "metadata": {},
   "outputs": [
    {
     "name": "stdout",
     "output_type": "stream",
     "text": [
      "But soft what light through yonder window breaks\n",
      "It is the east and Juliet is the sun\n",
      "Arise fair sun and kill the envious moon\n",
      "Who is already sick and pale with grief\n"
     ]
    }
   ],
   "source": [
    "import urllib.request\n",
    "fhand = urllib.request.urlopen('http://data.pr4e.org/romeo.txt')\n",
    "for line in fhand:\n",
    "    print(line.decode().strip())"
   ]
  },
  {
   "cell_type": "code",
   "execution_count": 13,
   "id": "18598ee2",
   "metadata": {},
   "outputs": [
    {
     "name": "stdout",
     "output_type": "stream",
     "text": [
      "<h1>The First Page</h1>\n",
      "<p>\n",
      "If you like, you can switch to the\n",
      "<a href=\"http://www.dr-chuck.com/page2.htm\">\n",
      "Second Page</a>.\n",
      "</p>\n"
     ]
    }
   ],
   "source": [
    "import urllib.request, urllib.parse, urllib.error\n",
    "fhand = urllib.request.urlopen('http://www.dr-chuck.com/page1.htm')\n",
    "for line in fhand:\n",
    "    print(line.decode().strip())"
   ]
  },
  {
   "cell_type": "markdown",
   "id": "edafd8ad",
   "metadata": {},
   "source": [
    "### html parsing , web scrapping\n",
    "analyse des données scrappées. --> beautifulSoup. You have ti install it : https://pypi.python.org/pypi/beautifulsoup4"
   ]
  },
  {
   "cell_type": "code",
   "execution_count": 19,
   "id": "e610dc24",
   "metadata": {},
   "outputs": [
    {
     "name": "stdout",
     "output_type": "stream",
     "text": [
      "Enter - https://www.carozum.fr\n",
      "None\n",
      "None\n",
      "None\n"
     ]
    }
   ],
   "source": [
    "import urllib.request, urllib.parse, urllib.error\n",
    "from bs4 import BeautifulSoup\n",
    "\n",
    "url = input('Enter - ')\n",
    "html = urllib.request.urlopen(url).read()\n",
    "soup = BeautifulSoup(html, 'html.parser')\n",
    "\n",
    "#retrieve all the anchor tag\n",
    "tags = soup('a')\n",
    "for tag in tags:\n",
    "    print(tag.get('href', None))"
   ]
  },
  {
   "cell_type": "code",
   "execution_count": null,
   "id": "a2997e67",
   "metadata": {},
   "outputs": [],
   "source": []
  }
 ],
 "metadata": {
  "kernelspec": {
   "display_name": "Python 3",
   "language": "python",
   "name": "python3"
  },
  "language_info": {
   "codemirror_mode": {
    "name": "ipython",
    "version": 3
   },
   "file_extension": ".py",
   "mimetype": "text/x-python",
   "name": "python",
   "nbconvert_exporter": "python",
   "pygments_lexer": "ipython3",
   "version": "3.9.5"
  }
 },
 "nbformat": 4,
 "nbformat_minor": 5
}
