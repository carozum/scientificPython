{
 "cells": [
  {
   "cell_type": "markdown",
   "id": "125c32df",
   "metadata": {},
   "source": [
    "Tupples are immutables, once assigned content can not be reassigned. Less storage, quicker to access --> more efficient than lists. Can't use the method for list on tupple : sort, reverse, append will not work on tuples. Higher performance, better memery use. "
   ]
  },
  {
   "cell_type": "code",
   "execution_count": 1,
   "id": "af3fb143",
   "metadata": {},
   "outputs": [
    {
     "name": "stdout",
     "output_type": "stream",
     "text": [
      "caro\n"
     ]
    }
   ],
   "source": [
    "y = (1, 9, 3) # is a tupple\n",
    "(fname, lname) = ('caro', 'zum')\n",
    "print(fname)"
   ]
  },
  {
   "cell_type": "markdown",
   "id": "502cb215",
   "metadata": {},
   "source": [
    "You can put a tupple on the left hand side of an assignment."
   ]
  },
  {
   "cell_type": "code",
   "execution_count": null,
   "id": "3ca65878",
   "metadata": {
    "collapsed": true
   },
   "outputs": [],
   "source": []
  },
  {
   "cell_type": "code",
   "execution_count": null,
   "id": "7ca544dc",
   "metadata": {},
   "outputs": [],
   "source": []
  }
 ],
 "metadata": {
  "kernelspec": {
   "display_name": "Python 3",
   "language": "python",
   "name": "python3"
  },
  "language_info": {
   "codemirror_mode": {
    "name": "ipython",
    "version": 3
   },
   "file_extension": ".py",
   "mimetype": "text/x-python",
   "name": "python",
   "nbconvert_exporter": "python",
   "pygments_lexer": "ipython3",
   "version": "3.9.5"
  }
 },
 "nbformat": 4,
 "nbformat_minor": 5
}
