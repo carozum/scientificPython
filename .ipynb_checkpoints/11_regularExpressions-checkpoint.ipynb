{
 "cells": [
  {
   "cell_type": "markdown",
   "id": "f0259b9f",
   "metadata": {},
   "source": [
    "regular expressions. Regex, a particular language that is interpreted by a regular expression processor. Very structured way to go about searching for information. Very powerful but also very cryptic. Very alod programming language that comes almost from the 1960's.     \n",
    "https://docs.python.org/3/howto/regex.html     \n",
    "https://docs.python.org/3/library/re.html     \n",
    "https://cheatography.com/mutanclan/cheat-sheets/python-regular-expression-regex/     https://www.geeksforgeeks.org/how-to-write-to-an-html-file-in-python/     "
   ]
  },
  {
   "cell_type": "markdown",
   "id": "0a981402",
   "metadata": {},
   "source": [
    "^ matches the beginning of a line   \n",
    "$ matches the end of a line.      \n",
    "'. matches any character    '   \n",
    "'\\s matches whitespaces'   \n",
    "'\\S matches any non-whitespace character'   \n",
    "'* repeats a character 0 or more times, IS placed after the character that can be repeated for example .* means repeat any character as you want'   \n",
    "'*? repeats a character 0 or more times (non-greedy)'   \n",
    "'+ repeats a character one or more times'   \n",
    "'+? repeats a character one or more times (non-greedy)'   \n",
    "[aeiou] matches a single character in the listed set    \n",
    "[^XYZ] matches a single character not in the listed set    \n",
    "[a-z0-9] the set of characters can include a range    \n",
    "( indicates where string extraction is to start    \n",
    ")indicates where string extraction is to end.    \n"
   ]
  },
  {
   "cell_type": "markdown",
   "id": "71733274",
   "metadata": {},
   "source": [
    "MATCHING - re.search()to see if a string matches a regular expression, similar to using find() method for strings. re.findall() to extract portions of a string that matches your regumar expression, similar to a combination of find() and slicing [:]"
   ]
  },
  {
   "cell_type": "code",
   "execution_count": 28,
   "id": "459c0f02",
   "metadata": {},
   "outputs": [
    {
     "name": "stdout",
     "output_type": "stream",
     "text": [
      "None\n"
     ]
    }
   ],
   "source": [
    "line = 'hello everybody, everything is cool today'\n",
    "word = 'happy'\n",
    "research = re.search(word, line)\n",
    "print(research)"
   ]
  },
  {
   "cell_type": "code",
   "execution_count": 29,
   "id": "6435430e",
   "metadata": {},
   "outputs": [
    {
     "name": "stdout",
     "output_type": "stream",
     "text": [
      "<re.Match object; span=(31, 35), match='cool'>\n"
     ]
    }
   ],
   "source": [
    "line = 'hello everybody, everything is cool today'\n",
    "research = re.search('cool', line)\n",
    "print(research)"
   ]
  },
  {
   "cell_type": "code",
   "execution_count": 30,
   "id": "0311c935",
   "metadata": {},
   "outputs": [
    {
     "name": "stdout",
     "output_type": "stream",
     "text": [
      "nothing found\n"
     ]
    }
   ],
   "source": [
    "line = 'hello everybody, everything is cool today'\n",
    "word = '^everybody'  #searching for everybody at the beginning\n",
    "if re.search(word, line):\n",
    "    print(line)\n",
    "else :\n",
    "    print('nothing found')"
   ]
  },
  {
   "cell_type": "code",
   "execution_count": 31,
   "id": "4f418053",
   "metadata": {},
   "outputs": [
    {
     "name": "stdout",
     "output_type": "stream",
     "text": [
      "<re.Match object; span=(0, 8), match='X-Sieve:'>\n"
     ]
    }
   ],
   "source": [
    "line2 = 'X-Sieve: CMU Sieve 2.3'\n",
    "print(re.search('^X-\\S+:', line2))"
   ]
  },
  {
   "cell_type": "code",
   "execution_count": 32,
   "id": "326afe4e",
   "metadata": {},
   "outputs": [
    {
     "name": "stdout",
     "output_type": "stream",
     "text": [
      "None\n"
     ]
    }
   ],
   "source": [
    "line3 = 'X-Sieve : CMU Sieve 2.3'\n",
    "print(re.search('^X-\\S+:', line3))"
   ]
  },
  {
   "cell_type": "markdown",
   "id": "520d9644",
   "metadata": {},
   "source": [
    "MATCHING AND EXTRACTING"
   ]
  },
  {
   "cell_type": "code",
   "execution_count": 42,
   "id": "bc2cb153",
   "metadata": {},
   "outputs": [
    {
     "name": "stdout",
     "output_type": "stream",
     "text": [
      "['2', '19', '42']\n",
      "[]\n",
      "['my 2 favorite numbers are thos']\n",
      "['my 2 favorite numbers are thos']\n"
     ]
    }
   ],
   "source": [
    "import re\n",
    "x ='my 2 favorite numbers are those 19 and 42'\n",
    "y = re.findall('[0-9]+', x)# [0-9] single digit, [0-9]+ one or more digits\n",
    "print(y) #returns a list of corresponding items\n",
    "z = re.findall('[AEIOU]+', x)\n",
    "print(z)\n",
    "yz = re.findall('^m.*s', x) #begins with m, ends with s and between all characters are authorised\n",
    "print(yz) #selects the longest string\n",
    "yzx = re.findall('^m.+?s', x) #begins with m, ends with s and between all characters are authorised\n",
    "print(yzx) #selects the shortest string because Greedy ?"
   ]
  },
  {
   "cell_type": "code",
   "execution_count": 34,
   "id": "f7c1b13e",
   "metadata": {},
   "outputs": [
    {
     "name": "stdout",
     "output_type": "stream",
     "text": [
      "['csev@umich.edu', 'cwen@iupui.edu']\n"
     ]
    }
   ],
   "source": [
    "import re\n",
    "s = 'A message from csev@umich.edu to cwen@iupui.edu about meeting @2PM'\n",
    "lst = re.findall('\\\\S+@\\\\S+', s)\n",
    "print(lst)"
   ]
  },
  {
   "cell_type": "code",
   "execution_count": null,
   "id": "4f471e49",
   "metadata": {},
   "outputs": [],
   "source": []
  }
 ],
 "metadata": {
  "kernelspec": {
   "display_name": "Python 3",
   "language": "python",
   "name": "python3"
  },
  "language_info": {
   "codemirror_mode": {
    "name": "ipython",
    "version": 3
   },
   "file_extension": ".py",
   "mimetype": "text/x-python",
   "name": "python",
   "nbconvert_exporter": "python",
   "pygments_lexer": "ipython3",
   "version": "3.9.5"
  }
 },
 "nbformat": 4,
 "nbformat_minor": 5
}
